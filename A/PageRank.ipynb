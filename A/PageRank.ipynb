{
 "cells": [
  {
   "cell_type": "code",
   "execution_count": 1,
   "id": "84905b64",
   "metadata": {},
   "outputs": [],
   "source": [
    "import numpy as np\n",
    "import scipy as sc\n",
    "import scipy.linalg\n",
    "import networkx as nx\n",
    "import matplotlib.pyplot as plt"
   ]
  },
  {
   "cell_type": "code",
   "execution_count": 2,
   "id": "df0d2e84",
   "metadata": {},
   "outputs": [],
   "source": [
    "# make a matrix\n",
    "# transform it to tp matrix\n",
    "# apply power iteration"
   ]
  },
  {
   "cell_type": "code",
   "execution_count": 3,
   "id": "fac58efb",
   "metadata": {},
   "outputs": [],
   "source": [
    "def print_matrix(mat):\n",
    "    rows=len(mat)\n",
    "    columns=len(mat[0])\n",
    "    for i in range(rows):\n",
    "        for j in range(columns):\n",
    "            print(mat[i][j],end=' ')\n",
    "        print()"
   ]
  },
  {
   "cell_type": "code",
   "execution_count": 4,
   "id": "1e03e396",
   "metadata": {},
   "outputs": [],
   "source": [
    "def generate_tp_matrix(alpha,G):\n",
    "    rows=len(G)\n",
    "    N=rows\n",
    "    columns=len(G[0])\n",
    "    P = np.zeros((rows,columns))\n",
    "    sum_of_1s=[]\n",
    "    \n",
    "    #sum_of_1s[rows]\n",
    "    for i in range(rows):\n",
    "        rowsum=0;\n",
    "        for j in range(columns):\n",
    "            if(G[i][j]==1): rowsum+=1\n",
    "        sum_of_1s.append(rowsum)\n",
    "        #print(sum_of_1s[i])\n",
    "        \n",
    "    #dividing by row sum\n",
    "    for i in range(rows):\n",
    "        for j in range(columns):\n",
    "            if(G[i][j]==1): \n",
    "                temp=G[i][j]/sum_of_1s[i]\n",
    "                #print(temp)\n",
    "                P[i][j]=temp\n",
    "    \n",
    "    #multiply by 1-alpha\n",
    "    for i in range(rows):\n",
    "        for j in range(columns):\n",
    "            P[i][j]*=(1-alpha)\n",
    "            \n",
    "    #adding alpha by n to P\n",
    "    for i in range(rows):\n",
    "        for j in range(columns):\n",
    "            P[i][j]+=(alpha/N)\n",
    "    return P"
   ]
  },
  {
   "cell_type": "code",
   "execution_count": 5,
   "id": "9f0edbe2",
   "metadata": {},
   "outputs": [],
   "source": [
    "G = np.array([[0, 1, 1],\n",
    "              [1, 0, 0],\n",
    "              [1, 0, 0]],dtype=float)"
   ]
  },
  {
   "cell_type": "code",
   "execution_count": 6,
   "id": "bc709591",
   "metadata": {
    "scrolled": true
   },
   "outputs": [
    {
     "name": "stdout",
     "output_type": "stream",
     "text": [
      "[[0. 1. 1.]\n",
      " [1. 0. 0.]\n",
      " [1. 0. 0.]]\n",
      "\n",
      "[[0.03333333 0.48333333 0.48333333]\n",
      " [0.93333333 0.03333333 0.03333333]\n",
      " [0.93333333 0.03333333 0.03333333]]\n"
     ]
    }
   ],
   "source": [
    "P=generate_tp_matrix(0.1,G)\n",
    "print(G)\n",
    "print()\n",
    "print(P)"
   ]
  },
  {
   "cell_type": "code",
   "execution_count": 79,
   "id": "e9038673",
   "metadata": {
    "scrolled": true
   },
   "outputs": [
    {
     "name": "stdout",
     "output_type": "stream",
     "text": [
      "[[0. 0. 1. 0. 0. 0. 0.]\n",
      " [0. 1. 1. 0. 0. 0. 0.]\n",
      " [1. 0. 1. 1. 0. 0. 0.]\n",
      " [0. 0. 0. 1. 1. 0. 0.]\n",
      " [0. 0. 0. 0. 0. 0. 1.]\n",
      " [0. 0. 0. 0. 0. 1. 1.]\n",
      " [0. 0. 0. 1. 1. 0. 1.]]\n"
     ]
    }
   ],
   "source": [
    "test= np.array([[0,0,1,0,0,0,0],\n",
    "                [0,1,1,0,0,0,0],\n",
    "                [1,0,1,1,0,0,0],\n",
    "                [0,0,0,1,1,0,0],\n",
    "                [0,0,0,0,0,0,1],\n",
    "                [0,0,0,0,0,1,1],\n",
    "                [0,0,0,1,1,0,1]], dtype=float)\n",
    "print(test)"
   ]
  },
  {
   "cell_type": "code",
   "execution_count": 8,
   "id": "e1ea80b1",
   "metadata": {},
   "outputs": [
    {
     "name": "stdout",
     "output_type": "stream",
     "text": [
      "[[0.02       0.02       0.88       0.02       0.02       0.02\n",
      "  0.02      ]\n",
      " [0.02       0.45       0.45       0.02       0.02       0.02\n",
      "  0.02      ]\n",
      " [0.30666667 0.02       0.30666667 0.30666667 0.02       0.02\n",
      "  0.02      ]\n",
      " [0.02       0.02       0.02       0.45       0.45       0.02\n",
      "  0.02      ]\n",
      " [0.02       0.02       0.02       0.02       0.02       0.02\n",
      "  0.88      ]\n",
      " [0.02       0.02       0.02       0.02       0.02       0.45\n",
      "  0.45      ]\n",
      " [0.02       0.02       0.02       0.30666667 0.30666667 0.02\n",
      "  0.30666667]]\n"
     ]
    }
   ],
   "source": [
    "P=generate_tp_matrix(0.14,test)\n",
    "\n",
    "print(P)"
   ]
  },
  {
   "cell_type": "code",
   "execution_count": 9,
   "id": "1d451dcc",
   "metadata": {},
   "outputs": [
    {
     "name": "stdout",
     "output_type": "stream",
     "text": [
      "[1. 0. 0. 0. 0. 0. 0.]\n"
     ]
    },
    {
     "data": {
      "text/plain": [
       "array([0.02, 0.02, 0.88, 0.02, 0.02, 0.02, 0.02])"
      ]
     },
     "execution_count": 9,
     "metadata": {},
     "output_type": "execute_result"
    }
   ],
   "source": [
    "columns=len(P[0])\n",
    "x=np.zeros(columns)\n",
    "x[0]=1\n",
    "\n",
    "print(x)\n",
    "\n",
    "xp=np.dot(x,P)\n",
    "\n",
    "xp"
   ]
  },
  {
   "cell_type": "code",
   "execution_count": 10,
   "id": "af0c7b18",
   "metadata": {},
   "outputs": [],
   "source": [
    "def power_itr100(xp,P):\n",
    "    count=100\n",
    "    prev=np.zeros(columns)\n",
    "\n",
    "    while(count):\n",
    "        prev=xp\n",
    "        xp=np.dot(xp,P)\n",
    "        count-=1\n",
    "    print(xp)"
   ]
  },
  {
   "cell_type": "code",
   "execution_count": 11,
   "id": "31666266",
   "metadata": {},
   "outputs": [],
   "source": [
    "def power_itr_inf(xp,P):\n",
    "    count=0\n",
    "    prev=np.zeros(columns)\n",
    "\n",
    "    while(True):\n",
    "        if np.array_equal(prev,xp):\n",
    "            break;\n",
    "        prev=xp\n",
    "        xp=np.dot(xp,P)\n",
    "        count+=1\n",
    "    print(count)"
   ]
  },
  {
   "cell_type": "code",
   "execution_count": 12,
   "id": "d441ded1",
   "metadata": {},
   "outputs": [
    {
     "data": {
      "text/plain": [
       "array([0.02, 0.02, 0.88, 0.02, 0.02, 0.02, 0.02])"
      ]
     },
     "execution_count": 12,
     "metadata": {},
     "output_type": "execute_result"
    }
   ],
   "source": [
    "xp"
   ]
  },
  {
   "cell_type": "code",
   "execution_count": 13,
   "id": "f81b2774",
   "metadata": {},
   "outputs": [
    {
     "name": "stdout",
     "output_type": "stream",
     "text": [
      "93\n",
      "[0.05211042 0.03508772 0.11201311 0.24561199 0.21350156 0.03508772\n",
      " 0.30658747]\n"
     ]
    }
   ],
   "source": [
    "power_itr_inf(xp,P)\n",
    "power_itr100(xp,P)"
   ]
  },
  {
   "cell_type": "code",
   "execution_count": 14,
   "id": "e843b103",
   "metadata": {},
   "outputs": [
    {
     "name": "stdout",
     "output_type": "stream",
     "text": [
      "Enter number of points: 3\n",
      "Is 0 and 0 connected?\n",
      " Press 1 for yes and 0 for NO1\n",
      "Is 0 and 1 connected?\n",
      " Press 1 for yes and 0 for NO1\n",
      "Is 0 and 2 connected?\n",
      " Press 1 for yes and 0 for NO1\n",
      "Is 1 and 0 connected?\n",
      " Press 1 for yes and 0 for NO0\n",
      "Is 1 and 1 connected?\n",
      " Press 1 for yes and 0 for NO1\n",
      "Is 1 and 2 connected?\n",
      " Press 1 for yes and 0 for NO1\n",
      "Is 2 and 0 connected?\n",
      " Press 1 for yes and 0 for NO0\n",
      "Is 2 and 1 connected?\n",
      " Press 1 for yes and 0 for NO0\n",
      "Is 2 and 2 connected?\n",
      " Press 1 for yes and 0 for NO1\n"
     ]
    }
   ],
   "source": [
    "#def input_adj_mat():\n",
    "irows=int(input(\"Enter number of points: \"))\n",
    "icolumns=irows\n",
    "mat=np.zeros((irows,icolumns))\n",
    "for i in range(irows):\n",
    "    for j in range(icolumns):\n",
    "        mat[i][j]=int(input(\"Is \"+str(i)+\" and \"+str(j)+\" connected?\\n Press 1 for yes and 0 for NO\"))"
   ]
  },
  {
   "cell_type": "code",
   "execution_count": 64,
   "id": "334bfefe",
   "metadata": {},
   "outputs": [],
   "source": [
    "mat=np.array([[0,0,1,0,0,0,0],\n",
    "                [0,1,1,0,0,0,0],\n",
    "                [1,0,1,1,0,0,0],\n",
    "                [0,0,0,1,1,0,0],\n",
    "                [0,0,0,0,0,0,1],\n",
    "                [0,0,0,0,0,1,1],\n",
    "                [0,0,0,1,1,0,1]], dtype=float)"
   ]
  },
  {
   "cell_type": "code",
   "execution_count": 65,
   "id": "f0b34438",
   "metadata": {},
   "outputs": [
    {
     "name": "stdout",
     "output_type": "stream",
     "text": [
      "[[0.01428571 0.01428571 0.91428571 0.01428571 0.01428571 0.01428571\n",
      "  0.01428571]\n",
      " [0.01428571 0.46428571 0.46428571 0.01428571 0.01428571 0.01428571\n",
      "  0.01428571]\n",
      " [0.31428571 0.01428571 0.31428571 0.31428571 0.01428571 0.01428571\n",
      "  0.01428571]\n",
      " [0.01428571 0.01428571 0.01428571 0.46428571 0.46428571 0.01428571\n",
      "  0.01428571]\n",
      " [0.01428571 0.01428571 0.01428571 0.01428571 0.01428571 0.01428571\n",
      "  0.91428571]\n",
      " [0.01428571 0.01428571 0.01428571 0.01428571 0.01428571 0.46428571\n",
      "  0.46428571]\n",
      " [0.01428571 0.01428571 0.01428571 0.31428571 0.31428571 0.01428571\n",
      "  0.31428571]]\n"
     ]
    }
   ],
   "source": [
    "P=generate_tp_matrix(0.1,mat)\n",
    "\n",
    "print(P)"
   ]
  },
  {
   "cell_type": "code",
   "execution_count": 66,
   "id": "c1d7222f",
   "metadata": {},
   "outputs": [
    {
     "name": "stdout",
     "output_type": "stream",
     "text": [
      "[1. 0. 0. 0. 0. 0. 0.]\n"
     ]
    },
    {
     "data": {
      "text/plain": [
       "array([0.01428571, 0.01428571, 0.91428571, 0.01428571, 0.01428571,\n",
       "       0.01428571, 0.01428571])"
      ]
     },
     "execution_count": 66,
     "metadata": {},
     "output_type": "execute_result"
    }
   ],
   "source": [
    "columns=len(P[0])\n",
    "x=np.zeros(columns)\n",
    "x[0]=1\n",
    "\n",
    "print(x)\n",
    "\n",
    "xp=x@P\n",
    "\n",
    "xp"
   ]
  },
  {
   "cell_type": "code",
   "execution_count": 67,
   "id": "484b0d68",
   "metadata": {},
   "outputs": [],
   "source": [
    "count=0\n",
    "prev=np.zeros(columns)\n",
    "\n",
    "while(count<100):\n",
    "    prev=xp\n",
    "    xp=xp@P\n",
    "    count+=1"
   ]
  },
  {
   "cell_type": "code",
   "execution_count": 68,
   "id": "6fde1d17",
   "metadata": {},
   "outputs": [
    {
     "data": {
      "text/plain": [
       "array([0.04137723, 0.02597403, 0.09030504, 0.25601355, 0.22892204,\n",
       "       0.02597403, 0.33143409])"
      ]
     },
     "execution_count": 68,
     "metadata": {},
     "output_type": "execute_result"
    }
   ],
   "source": [
    "xp"
   ]
  },
  {
   "cell_type": "code",
   "execution_count": 36,
   "id": "ad3217bb",
   "metadata": {},
   "outputs": [
    {
     "data": {
      "text/plain": [
       "{0: 0.3333333333333333, 1: 0.3333333333333333, 2: 0.3333333333333333}"
      ]
     },
     "execution_count": 36,
     "metadata": {},
     "output_type": "execute_result"
    }
   ],
   "source": [
    "G=nx.from_numpy_matrix(mat)\n",
    "nx.pagerank(G,0.1)"
   ]
  },
  {
   "cell_type": "code",
   "execution_count": null,
   "id": "f73c9d06",
   "metadata": {},
   "outputs": [],
   "source": []
  },
  {
   "cell_type": "code",
   "execution_count": 56,
   "id": "884b804b",
   "metadata": {},
   "outputs": [],
   "source": [
    "mat=np.array([[1., 1., 1.],\n",
    "       [0., 1., 1.],\n",
    "       [0., 0., 1.]])"
   ]
  },
  {
   "cell_type": "code",
   "execution_count": 57,
   "id": "4525dbfa",
   "metadata": {},
   "outputs": [],
   "source": [
    "Y=generate_tp_matrix(0.1,mat)"
   ]
  },
  {
   "cell_type": "code",
   "execution_count": 58,
   "id": "f25b0ad8",
   "metadata": {},
   "outputs": [],
   "source": [
    "tempG=nx.from_numpy_matrix(mat)\n"
   ]
  },
  {
   "cell_type": "code",
   "execution_count": 59,
   "id": "312d398a",
   "metadata": {},
   "outputs": [
    {
     "data": {
      "text/plain": [
       "{0: 0.3333333333333333, 1: 0.3333333333333333, 2: 0.3333333333333333}"
      ]
     },
     "execution_count": 59,
     "metadata": {},
     "output_type": "execute_result"
    }
   ],
   "source": [
    "nx.pagerank(tempG,0.1)"
   ]
  },
  {
   "cell_type": "code",
   "execution_count": 60,
   "id": "0de9aac8",
   "metadata": {},
   "outputs": [
    {
     "name": "stdout",
     "output_type": "stream",
     "text": [
      "[1. 0. 0.]\n"
     ]
    },
    {
     "data": {
      "text/plain": [
       "array([0.33333333, 0.33333333, 0.33333333])"
      ]
     },
     "execution_count": 60,
     "metadata": {},
     "output_type": "execute_result"
    }
   ],
   "source": [
    "columns=len(Y[0])\n",
    "l=np.zeros(columns)\n",
    "l[0]=1\n",
    "\n",
    "print(l)\n",
    "\n",
    "xp1=l@Y\n",
    "\n",
    "xp1"
   ]
  },
  {
   "cell_type": "code",
   "execution_count": 61,
   "id": "e7c279de",
   "metadata": {},
   "outputs": [],
   "source": [
    "count=0\n",
    "prev=np.zeros(columns)\n",
    "\n",
    "while(count<100):\n",
    "    prev=xp1\n",
    "    xp1=xp1@Y\n",
    "    count+=1"
   ]
  },
  {
   "cell_type": "code",
   "execution_count": 62,
   "id": "cc804176",
   "metadata": {},
   "outputs": [
    {
     "data": {
      "text/plain": [
       "array([0.04761905, 0.08658009, 0.86580087])"
      ]
     },
     "execution_count": 62,
     "metadata": {},
     "output_type": "execute_result"
    }
   ],
   "source": [
    "xp1"
   ]
  },
  {
   "cell_type": "code",
   "execution_count": null,
   "id": "8f712145",
   "metadata": {},
   "outputs": [],
   "source": []
  }
 ],
 "metadata": {
  "kernelspec": {
   "display_name": "Python 3 (ipykernel)",
   "language": "python",
   "name": "python3"
  },
  "language_info": {
   "codemirror_mode": {
    "name": "ipython",
    "version": 3
   },
   "file_extension": ".py",
   "mimetype": "text/x-python",
   "name": "python",
   "nbconvert_exporter": "python",
   "pygments_lexer": "ipython3",
   "version": "3.9.7"
  }
 },
 "nbformat": 4,
 "nbformat_minor": 5
}
